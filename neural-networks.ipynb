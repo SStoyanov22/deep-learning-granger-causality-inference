{
 "cells": [
  {
   "cell_type": "markdown",
   "id": "177a5c74",
   "metadata": {},
   "source": [
    "## Research title: \n",
    "## Authors:\n",
    "### Vladimir Milchev\n",
    "### Kristofar Stavrev\n",
    "### Radoslava Dencheva\n",
    "### Stoyan Stoyanov\n",
    "\n",
    "\n"
   ]
  },
  {
   "cell_type": "markdown",
   "id": "e6e67650",
   "metadata": {},
   "source": [
    "## 1.Import all necessary libraries"
   ]
  },
  {
   "cell_type": "code",
   "execution_count": 151,
   "id": "8fdf8b99",
   "metadata": {},
   "outputs": [],
   "source": [
    "from datetime import datetime\n",
    "import pandas as pd\n",
    "import numpy as np\n",
    "import matplotlib.pyplot as plt\n",
    "import glob \n",
    "#conda install yahoofinancials\n",
    "from yahoofinancials import YahooFinancials"
   ]
  },
  {
   "cell_type": "code",
   "execution_count": 152,
   "id": "0c6abcae",
   "metadata": {},
   "outputs": [],
   "source": [
    "\"\"\"Constants\"\"\"\n",
    "TICKER_BTC = \"BTC-USD\"\n",
    "TICKER_NASDAQ = \"^IXIC\"\n",
    "TICKER_SNP = \"^GSPC\"\n",
    "#START_DATE = \"2014-01-01\"\n",
    "#END_DATE = datetime.now().strftime('%Y-%m-%d')\n",
    "pd.set_option('display.max_columns', 7)\n",
    "pd.set_option('display.max_rows', 100)"
   ]
  },
  {
   "cell_type": "markdown",
   "id": "9a7c9d48",
   "metadata": {},
   "source": [
    "## 2. Data Collection"
   ]
  },
  {
   "cell_type": "markdown",
   "id": "efcf651c",
   "metadata": {},
   "source": [
    "### Get data for BTC"
   ]
  },
  {
   "cell_type": "code",
   "execution_count": 153,
   "id": "c9231b80",
   "metadata": {},
   "outputs": [],
   "source": [
    "btc_financials = YahooFinancials(TICKER_BTC)\n",
    "data=btc_financials.get_historical_price_data(START_DATE, END_DATE, \"daily\")\n",
    "btc_df = pd.DataFrame(data[TICKER_BTC]['prices'])"
   ]
  },
  {
   "cell_type": "markdown",
   "id": "793d5177",
   "metadata": {},
   "source": [
    "### Get data for S&P 500"
   ]
  },
  {
   "cell_type": "code",
   "execution_count": 154,
   "id": "68c09e90",
   "metadata": {},
   "outputs": [],
   "source": [
    "snp_financials = YahooFinancials(TICKER_SNP)\n",
    "data=snp_financials.get_historical_price_data(START_DATE, END_DATE, \"daily\")\n",
    "snp_df = pd.DataFrame(data[TICKER_SNP]['prices'])"
   ]
  },
  {
   "cell_type": "markdown",
   "id": "8ca6eaea",
   "metadata": {},
   "source": [
    "## Data preparation"
   ]
  },
  {
   "cell_type": "code",
   "execution_count": 155,
   "id": "a037ec28",
   "metadata": {},
   "outputs": [],
   "source": [
    "#Put all unecessarry columns in an array\n",
    "to_drop = ['high', 'low', 'open', 'volume', 'adjclose', \n",
    "       'formatted_date']"
   ]
  },
  {
   "cell_type": "markdown",
   "id": "bd3d09a4",
   "metadata": {},
   "source": [
    "### Prepare BTC data"
   ]
  },
  {
   "cell_type": "code",
   "execution_count": 156,
   "id": "abb12d3e",
   "metadata": {},
   "outputs": [
    {
     "data": {
      "text/html": [
       "<div>\n",
       "<style scoped>\n",
       "    .dataframe tbody tr th:only-of-type {\n",
       "        vertical-align: middle;\n",
       "    }\n",
       "\n",
       "    .dataframe tbody tr th {\n",
       "        vertical-align: top;\n",
       "    }\n",
       "\n",
       "    .dataframe thead th {\n",
       "        text-align: right;\n",
       "    }\n",
       "</style>\n",
       "<table border=\"1\" class=\"dataframe\">\n",
       "  <thead>\n",
       "    <tr style=\"text-align: right;\">\n",
       "      <th></th>\n",
       "      <th>btc_price</th>\n",
       "    </tr>\n",
       "  </thead>\n",
       "  <tbody>\n",
       "    <tr>\n",
       "      <th>2014-09-17</th>\n",
       "      <td>457.334015</td>\n",
       "    </tr>\n",
       "    <tr>\n",
       "      <th>2014-09-18</th>\n",
       "      <td>424.440002</td>\n",
       "    </tr>\n",
       "    <tr>\n",
       "      <th>2014-09-19</th>\n",
       "      <td>394.795990</td>\n",
       "    </tr>\n",
       "    <tr>\n",
       "      <th>2014-09-20</th>\n",
       "      <td>408.903992</td>\n",
       "    </tr>\n",
       "    <tr>\n",
       "      <th>2014-09-21</th>\n",
       "      <td>398.821014</td>\n",
       "    </tr>\n",
       "    <tr>\n",
       "      <th>...</th>\n",
       "      <td>...</td>\n",
       "    </tr>\n",
       "    <tr>\n",
       "      <th>2022-03-30</th>\n",
       "      <td>47062.664062</td>\n",
       "    </tr>\n",
       "    <tr>\n",
       "      <th>2022-03-31</th>\n",
       "      <td>45538.675781</td>\n",
       "    </tr>\n",
       "    <tr>\n",
       "      <th>2022-04-01</th>\n",
       "      <td>46281.644531</td>\n",
       "    </tr>\n",
       "    <tr>\n",
       "      <th>2022-04-02</th>\n",
       "      <td>45868.949219</td>\n",
       "    </tr>\n",
       "    <tr>\n",
       "      <th>2022-04-03</th>\n",
       "      <td>46565.972656</td>\n",
       "    </tr>\n",
       "  </tbody>\n",
       "</table>\n",
       "<p>2756 rows × 1 columns</p>\n",
       "</div>"
      ],
      "text/plain": [
       "               btc_price\n",
       "2014-09-17    457.334015\n",
       "2014-09-18    424.440002\n",
       "2014-09-19    394.795990\n",
       "2014-09-20    408.903992\n",
       "2014-09-21    398.821014\n",
       "...                  ...\n",
       "2022-03-30  47062.664062\n",
       "2022-03-31  45538.675781\n",
       "2022-04-01  46281.644531\n",
       "2022-04-02  45868.949219\n",
       "2022-04-03  46565.972656\n",
       "\n",
       "[2756 rows x 1 columns]"
      ]
     },
     "execution_count": 156,
     "metadata": {},
     "output_type": "execute_result"
    }
   ],
   "source": [
    "#rename close column to price\n",
    "btc_df = btc_df.rename(columns = {\"close\":\"btc_price\"})\n",
    "\n",
    "#get START_DATE and END_DATE\n",
    "START_DATE =  min(btc_df.formatted_date)\n",
    "END_DATE = max(btc_df.formatted_date)\n",
    "#drop unecessary columns, create date column and set as index\n",
    "btc_df.date = pd.to_datetime(btc_df.formatted_date)\n",
    "btc_df = btc_df.drop(to_drop, axis=1).set_index(\"date\")\n",
    "\n",
    "\n",
    "\n",
    "\n",
    "#Remove duplicated indexes/dates for BTC\n",
    "if btc_df.index.duplicated().any():\n",
    "    btc_df = btc_df.loc[~btc_df.index.duplicated(), :]\n",
    "btc_df= btc_df.reindex(pd.date_range(start=START_DATE, end=END_DATE, freq='D'))\n",
    "\n",
    "#Add missing dates\n",
    "btc_df= btc_df.reindex(pd.date_range(start=START_DATE, end=END_DATE, freq='D'))\n",
    "\n",
    "#Use forward propagation to fill missing values\n",
    "btc_df = btc_df.fillna(method=\"ffill\")\n",
    "btc_df"
   ]
  },
  {
   "cell_type": "markdown",
   "id": "2d173452",
   "metadata": {},
   "source": [
    "### Prepare S&P 500 data"
   ]
  },
  {
   "cell_type": "code",
   "execution_count": 157,
   "id": "1ffd6789",
   "metadata": {},
   "outputs": [],
   "source": [
    "#rename close column to price\n",
    "snp_df = snp_df.rename(columns = {\"close\":\"snp_price\"})\n",
    "\n",
    "#drop unecessary columns, create date column and set as index\n",
    "snp_df.date = pd.to_datetime(snp_df.formatted_date)\n",
    "snp_df = snp_df.drop(to_drop, axis=1).set_index(\"date\")\n",
    "\n",
    "#Remove duplicated indexes/dates for BTC\n",
    "if snp_df.index.duplicated().any():\n",
    "    snp_df = snp_df.loc[~snp_df.index.duplicated(), :]\n",
    "snp_df= snp_df.reindex(pd.date_range(start=START_DATE, end=END_DATE, freq='D'))\n",
    "\n",
    "#Add missing dates\n",
    "snp_df= snp_df.reindex(pd.date_range(start=START_DATE, end=END_DATE, freq='D'))\n",
    "\n",
    "#Use forward propagation to fill missing values\n",
    "snp_df = snp_df.fillna(method=\"ffill\")"
   ]
  },
  {
   "cell_type": "code",
   "execution_count": 158,
   "id": "a077c39e",
   "metadata": {},
   "outputs": [
    {
     "data": {
      "text/html": [
       "<div>\n",
       "<style scoped>\n",
       "    .dataframe tbody tr th:only-of-type {\n",
       "        vertical-align: middle;\n",
       "    }\n",
       "\n",
       "    .dataframe tbody tr th {\n",
       "        vertical-align: top;\n",
       "    }\n",
       "\n",
       "    .dataframe thead th {\n",
       "        text-align: right;\n",
       "    }\n",
       "</style>\n",
       "<table border=\"1\" class=\"dataframe\">\n",
       "  <thead>\n",
       "    <tr style=\"text-align: right;\">\n",
       "      <th></th>\n",
       "      <th>snp_price</th>\n",
       "      <th>btc_price</th>\n",
       "    </tr>\n",
       "  </thead>\n",
       "  <tbody>\n",
       "    <tr>\n",
       "      <th>2014-09-17</th>\n",
       "      <td>2001.569946</td>\n",
       "      <td>457.334015</td>\n",
       "    </tr>\n",
       "    <tr>\n",
       "      <th>2014-09-18</th>\n",
       "      <td>2011.359985</td>\n",
       "      <td>424.440002</td>\n",
       "    </tr>\n",
       "    <tr>\n",
       "      <th>2014-09-19</th>\n",
       "      <td>2010.400024</td>\n",
       "      <td>394.795990</td>\n",
       "    </tr>\n",
       "    <tr>\n",
       "      <th>2014-09-20</th>\n",
       "      <td>2010.400024</td>\n",
       "      <td>408.903992</td>\n",
       "    </tr>\n",
       "    <tr>\n",
       "      <th>2014-09-21</th>\n",
       "      <td>2010.400024</td>\n",
       "      <td>398.821014</td>\n",
       "    </tr>\n",
       "    <tr>\n",
       "      <th>...</th>\n",
       "      <td>...</td>\n",
       "      <td>...</td>\n",
       "    </tr>\n",
       "    <tr>\n",
       "      <th>2022-03-30</th>\n",
       "      <td>4602.450195</td>\n",
       "      <td>47062.664062</td>\n",
       "    </tr>\n",
       "    <tr>\n",
       "      <th>2022-03-31</th>\n",
       "      <td>4530.410156</td>\n",
       "      <td>45538.675781</td>\n",
       "    </tr>\n",
       "    <tr>\n",
       "      <th>2022-04-01</th>\n",
       "      <td>4545.859863</td>\n",
       "      <td>46281.644531</td>\n",
       "    </tr>\n",
       "    <tr>\n",
       "      <th>2022-04-02</th>\n",
       "      <td>4545.859863</td>\n",
       "      <td>45868.949219</td>\n",
       "    </tr>\n",
       "    <tr>\n",
       "      <th>2022-04-03</th>\n",
       "      <td>4545.859863</td>\n",
       "      <td>46565.972656</td>\n",
       "    </tr>\n",
       "  </tbody>\n",
       "</table>\n",
       "<p>2756 rows × 2 columns</p>\n",
       "</div>"
      ],
      "text/plain": [
       "              snp_price     btc_price\n",
       "2014-09-17  2001.569946    457.334015\n",
       "2014-09-18  2011.359985    424.440002\n",
       "2014-09-19  2010.400024    394.795990\n",
       "2014-09-20  2010.400024    408.903992\n",
       "2014-09-21  2010.400024    398.821014\n",
       "...                 ...           ...\n",
       "2022-03-30  4602.450195  47062.664062\n",
       "2022-03-31  4530.410156  45538.675781\n",
       "2022-04-01  4545.859863  46281.644531\n",
       "2022-04-02  4545.859863  45868.949219\n",
       "2022-04-03  4545.859863  46565.972656\n",
       "\n",
       "[2756 rows x 2 columns]"
      ]
     },
     "execution_count": 158,
     "metadata": {},
     "output_type": "execute_result"
    }
   ],
   "source": [
    "df = pd.merge(snp_df, btc_df, left_index=True, right_index=True)\n",
    "df"
   ]
  },
  {
   "cell_type": "code",
   "execution_count": 160,
   "id": "3c735bc7",
   "metadata": {},
   "outputs": [
    {
     "data": {
      "image/png": "[encoded data removed]",
      "text/plain": [
       "<Figure size 540x252 with 1 Axes>"
      ]
     },
     "metadata": {
      "needs_background": "light"
     },
     "output_type": "display_data"
    }
   ],
   "source": [
    "# Plot time series dataset\n",
    "ax = df.plot(linewidth=2, fontsize=12);\n",
    "\n",
    "# Additional customizations\n",
    "ax.set_xlabel('Date');\n",
    "ax.legend(fontsize=12);"
   ]
  },
  {
   "cell_type": "code",
   "execution_count": 125,
   "id": "c58d7e40",
   "metadata": {},
   "outputs": [
    {
     "data": {
      "text/plain": [
       "259"
      ]
     },
     "execution_count": 125,
     "metadata": {},
     "output_type": "execute_result"
    }
   ],
   "source": [
    "btc_df.price.isnull().sum()"
   ]
  },
  {
   "cell_type": "code",
   "execution_count": 126,
   "id": "b5e1eed0",
   "metadata": {},
   "outputs": [
    {
     "data": {
      "text/plain": [
       "937"
      ]
     },
     "execution_count": 126,
     "metadata": {},
     "output_type": "execute_result"
    }
   ],
   "source": [
    "snp_df.price.isnull().sum()"
   ]
  },
  {
   "cell_type": "code",
   "execution_count": 127,
   "id": "8dbaaf0e",
   "metadata": {},
   "outputs": [
    {
     "data": {
      "text/plain": [
       "3015"
      ]
     },
     "execution_count": 127,
     "metadata": {},
     "output_type": "execute_result"
    }
   ],
   "source": [
    "len(btc_df.index)"
   ]
  },
  {
   "cell_type": "code",
   "execution_count": 128,
   "id": "b188bb61",
   "metadata": {},
   "outputs": [
    {
     "data": {
      "text/plain": [
       "3015"
      ]
     },
     "execution_count": 128,
     "metadata": {},
     "output_type": "execute_result"
    }
   ],
   "source": [
    "len(snp_df.index)"
   ]
  },
  {
   "cell_type": "code",
   "execution_count": null,
   "id": "4e91c641",
   "metadata": {},
   "outputs": [],
   "source": []
  },
  {
   "cell_type": "code",
   "execution_count": 73,
   "id": "0837da33",
   "metadata": {},
   "outputs": [],
   "source": []
  },
  {
   "cell_type": "code",
   "execution_count": 74,
   "id": "f3e4f75c",
   "metadata": {},
   "outputs": [
    {
     "data": {
      "text/html": [
       "<div>\n",
       "<style scoped>\n",
       "    .dataframe tbody tr th:only-of-type {\n",
       "        vertical-align: middle;\n",
       "    }\n",
       "\n",
       "    .dataframe tbody tr th {\n",
       "        vertical-align: top;\n",
       "    }\n",
       "\n",
       "    .dataframe thead th {\n",
       "        text-align: right;\n",
       "    }\n",
       "</style>\n",
       "<table border=\"1\" class=\"dataframe\">\n",
       "  <thead>\n",
       "    <tr style=\"text-align: right;\">\n",
       "      <th></th>\n",
       "      <th>price</th>\n",
       "    </tr>\n",
       "    <tr>\n",
       "      <th>date</th>\n",
       "      <th></th>\n",
       "    </tr>\n",
       "  </thead>\n",
       "  <tbody>\n",
       "    <tr>\n",
       "      <th>NaT</th>\n",
       "      <td>NaN</td>\n",
       "    </tr>\n",
       "  </tbody>\n",
       "</table>\n",
       "</div>"
      ],
      "text/plain": [
       "      price\n",
       "date       \n",
       "NaT     NaN"
      ]
     },
     "execution_count": 74,
     "metadata": {},
     "output_type": "execute_result"
    }
   ],
   "source": []
  },
  {
   "cell_type": "code",
   "execution_count": null,
   "id": "c319224f",
   "metadata": {},
   "outputs": [],
   "source": []
  }
 ],
 "metadata": {
  "kernelspec": {
   "display_name": "Python 3",
   "language": "python",
   "name": "python3"
  },
  "language_info": {
   "codemirror_mode": {
    "name": "ipython",
    "version": 3
   },
   "file_extension": ".py",
   "mimetype": "text/x-python",
   "name": "python",
   "nbconvert_exporter": "python",
   "pygments_lexer": "ipython3",
   "version": "3.8.8"
  }
 },
 "nbformat": 4,
 "nbformat_minor": 5
}
