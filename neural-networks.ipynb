{
 "cells": [
  {
   "cell_type": "markdown",
   "id": "177a5c74",
   "metadata": {},
   "source": [
    "## Research title: \n",
    "## Authors:\n",
    "### Vladimir Milchev\n",
    "### Kristofar Stavrev\n",
    "### Radoslava Dencheva\n",
    "### Stoyan Stoyanov\n",
    "\n",
    "\n"
   ]
  },
  {
   "cell_type": "markdown",
   "id": "e6e67650",
   "metadata": {},
   "source": [
    "## 1.Import all necessary libraries"
   ]
  },
  {
   "cell_type": "code",
   "execution_count": 3,
   "id": "8fdf8b99",
   "metadata": {},
   "outputs": [],
   "source": [
    "from datetime import datetime\n",
    "import pandas as pd\n",
    "import numpy as np\n",
    "import matplotlib.pyplot as plt\n",
    "import glob \n",
    "from statsmodels import api as sm\n",
    "from scipy.stats import linregress\n",
    "import matplotlib.pyplot as plt\n",
    "#conda install yahoofinancials\n",
    "from yahoofinancials import YahooFinancials"
   ]
  },
  {
   "cell_type": "code",
   "execution_count": 4,
   "id": "0c6abcae",
   "metadata": {},
   "outputs": [],
   "source": [
    "\"\"\"Constants\"\"\"\n",
    "TICKER_BTC = \"BTC-USD\"\n",
    "TICKER_NASDAQ = \"^IXIC\"\n",
    "TICKER_SNP = \"^GSPC\"\n",
    "START_DATE = \"2014-09-17\"\n",
    "END_DATE = datetime.now().strftime('%Y-%m-%d')\n",
    "pd.set_option('display.max_columns', 7)\n",
    "pd.set_option('display.max_rows', 100)"
   ]
  },
  {
   "cell_type": "markdown",
   "id": "9a7c9d48",
   "metadata": {},
   "source": [
    "## 2. Data Collection"
   ]
  },
  {
   "cell_type": "markdown",
   "id": "efcf651c",
   "metadata": {},
   "source": [
    "### Get data for BTC"
   ]
  },
  {
   "cell_type": "code",
   "execution_count": 5,
   "id": "c9231b80",
   "metadata": {},
   "outputs": [],
   "source": [
    "btc_financials = YahooFinancials(TICKER_BTC)\n",
    "data=btc_financials.get_historical_price_data(START_DATE, END_DATE, \"daily\")\n",
    "btc_df = pd.DataFrame(data[TICKER_BTC]['prices'])"
   ]
  },
  {
   "cell_type": "markdown",
   "id": "793d5177",
   "metadata": {},
   "source": [
    "### Get data for S&P 500"
   ]
  },
  {
   "cell_type": "code",
   "execution_count": 6,
   "id": "68c09e90",
   "metadata": {},
   "outputs": [],
   "source": [
    "snp_financials = YahooFinancials(TICKER_SNP)\n",
    "data=snp_financials.get_historical_price_data(START_DATE, END_DATE, \"daily\")\n",
    "snp_df = pd.DataFrame(data[TICKER_SNP]['prices'])"
   ]
  },
  {
   "cell_type": "markdown",
   "id": "8ca6eaea",
   "metadata": {},
   "source": [
    "## Data preparation"
   ]
  },
  {
   "cell_type": "code",
   "execution_count": 7,
   "id": "a037ec28",
   "metadata": {},
   "outputs": [],
   "source": [
    "#Put all unecessarry columns in an array\n",
    "to_drop = ['high', 'low', 'open', 'volume', 'adjclose', \n",
    "       'formatted_date']"
   ]
  },
  {
   "cell_type": "markdown",
   "id": "bd3d09a4",
   "metadata": {},
   "source": [
    "### Prepare BTC data"
   ]
  },
  {
   "cell_type": "code",
   "execution_count": 8,
   "id": "abb12d3e",
   "metadata": {},
   "outputs": [
    {
     "data": {
      "text/html": [
       "<div>\n",
       "<style scoped>\n",
       "    .dataframe tbody tr th:only-of-type {\n",
       "        vertical-align: middle;\n",
       "    }\n",
       "\n",
       "    .dataframe tbody tr th {\n",
       "        vertical-align: top;\n",
       "    }\n",
       "\n",
       "    .dataframe thead th {\n",
       "        text-align: right;\n",
       "    }\n",
       "</style>\n",
       "<table border=\"1\" class=\"dataframe\">\n",
       "  <thead>\n",
       "    <tr style=\"text-align: right;\">\n",
       "      <th></th>\n",
       "      <th>BTC</th>\n",
       "    </tr>\n",
       "    <tr>\n",
       "      <th>date</th>\n",
       "      <th></th>\n",
       "    </tr>\n",
       "  </thead>\n",
       "  <tbody>\n",
       "    <tr>\n",
       "      <th>2014-09-17</th>\n",
       "      <td>457.334015</td>\n",
       "    </tr>\n",
       "    <tr>\n",
       "      <th>2014-09-18</th>\n",
       "      <td>424.440002</td>\n",
       "    </tr>\n",
       "    <tr>\n",
       "      <th>2014-09-19</th>\n",
       "      <td>394.795990</td>\n",
       "    </tr>\n",
       "    <tr>\n",
       "      <th>2014-09-20</th>\n",
       "      <td>408.903992</td>\n",
       "    </tr>\n",
       "    <tr>\n",
       "      <th>2014-09-21</th>\n",
       "      <td>398.821014</td>\n",
       "    </tr>\n",
       "    <tr>\n",
       "      <th>2014-09-22</th>\n",
       "      <td>402.152008</td>\n",
       "    </tr>\n",
       "    <tr>\n",
       "      <th>2014-09-23</th>\n",
       "      <td>435.790985</td>\n",
       "    </tr>\n",
       "    <tr>\n",
       "      <th>2014-09-24</th>\n",
       "      <td>423.204987</td>\n",
       "    </tr>\n",
       "    <tr>\n",
       "      <th>2014-09-25</th>\n",
       "      <td>411.574005</td>\n",
       "    </tr>\n",
       "    <tr>\n",
       "      <th>2014-09-26</th>\n",
       "      <td>404.424988</td>\n",
       "    </tr>\n",
       "  </tbody>\n",
       "</table>\n",
       "</div>"
      ],
      "text/plain": [
       "                   BTC\n",
       "date                  \n",
       "2014-09-17  457.334015\n",
       "2014-09-18  424.440002\n",
       "2014-09-19  394.795990\n",
       "2014-09-20  408.903992\n",
       "2014-09-21  398.821014\n",
       "2014-09-22  402.152008\n",
       "2014-09-23  435.790985\n",
       "2014-09-24  423.204987\n",
       "2014-09-25  411.574005\n",
       "2014-09-26  404.424988"
      ]
     },
     "execution_count": 8,
     "metadata": {},
     "output_type": "execute_result"
    }
   ],
   "source": [
    "#rename close column to price\n",
    "btc_df = btc_df.rename(columns = {\"close\":\"BTC\"})\n",
    "\n",
    "#check for date duplicates\n",
    "len(btc_df['formatted_date'].unique()) #2759\n",
    "len(btc_df.index) #2759\n",
    "\n",
    "#drop unecessary columns, create date column and set as index\n",
    "btc_df.date = pd.to_datetime(btc_df.formatted_date)\n",
    "btc_df = btc_df.drop(to_drop, axis=1).set_index(\"date\")\n",
    "\n",
    "#Remove duplicated indexes/dates for BTC\n",
    "if btc_df.index.duplicated().any():\n",
    "    btc_df = btc_df.loc[~btc_df.index.duplicated(), :]\n",
    "\n",
    "btc_df.head(10)"
   ]
  },
  {
   "cell_type": "markdown",
   "id": "2d173452",
   "metadata": {},
   "source": [
    "### Prepare S&P 500 data"
   ]
  },
  {
   "cell_type": "code",
   "execution_count": 9,
   "id": "1ffd6789",
   "metadata": {},
   "outputs": [
    {
     "data": {
      "text/html": [
       "<div>\n",
       "<style scoped>\n",
       "    .dataframe tbody tr th:only-of-type {\n",
       "        vertical-align: middle;\n",
       "    }\n",
       "\n",
       "    .dataframe tbody tr th {\n",
       "        vertical-align: top;\n",
       "    }\n",
       "\n",
       "    .dataframe thead th {\n",
       "        text-align: right;\n",
       "    }\n",
       "</style>\n",
       "<table border=\"1\" class=\"dataframe\">\n",
       "  <thead>\n",
       "    <tr style=\"text-align: right;\">\n",
       "      <th></th>\n",
       "      <th>SP500</th>\n",
       "    </tr>\n",
       "    <tr>\n",
       "      <th>date</th>\n",
       "      <th></th>\n",
       "    </tr>\n",
       "  </thead>\n",
       "  <tbody>\n",
       "    <tr>\n",
       "      <th>2014-09-17</th>\n",
       "      <td>2001.569946</td>\n",
       "    </tr>\n",
       "    <tr>\n",
       "      <th>2014-09-18</th>\n",
       "      <td>2011.359985</td>\n",
       "    </tr>\n",
       "    <tr>\n",
       "      <th>2014-09-19</th>\n",
       "      <td>2010.400024</td>\n",
       "    </tr>\n",
       "    <tr>\n",
       "      <th>2014-09-22</th>\n",
       "      <td>1994.290039</td>\n",
       "    </tr>\n",
       "    <tr>\n",
       "      <th>2014-09-23</th>\n",
       "      <td>1982.770020</td>\n",
       "    </tr>\n",
       "    <tr>\n",
       "      <th>2014-09-24</th>\n",
       "      <td>1998.300049</td>\n",
       "    </tr>\n",
       "    <tr>\n",
       "      <th>2014-09-25</th>\n",
       "      <td>1965.989990</td>\n",
       "    </tr>\n",
       "    <tr>\n",
       "      <th>2014-09-26</th>\n",
       "      <td>1982.849976</td>\n",
       "    </tr>\n",
       "    <tr>\n",
       "      <th>2014-09-29</th>\n",
       "      <td>1977.800049</td>\n",
       "    </tr>\n",
       "    <tr>\n",
       "      <th>2014-09-30</th>\n",
       "      <td>1972.290039</td>\n",
       "    </tr>\n",
       "  </tbody>\n",
       "</table>\n",
       "</div>"
      ],
      "text/plain": [
       "                  SP500\n",
       "date                   \n",
       "2014-09-17  2001.569946\n",
       "2014-09-18  2011.359985\n",
       "2014-09-19  2010.400024\n",
       "2014-09-22  1994.290039\n",
       "2014-09-23  1982.770020\n",
       "2014-09-24  1998.300049\n",
       "2014-09-25  1965.989990\n",
       "2014-09-26  1982.849976\n",
       "2014-09-29  1977.800049\n",
       "2014-09-30  1972.290039"
      ]
     },
     "execution_count": 9,
     "metadata": {},
     "output_type": "execute_result"
    }
   ],
   "source": [
    "#rename close column to price\n",
    "snp_df = snp_df.rename(columns = {\"close\":\"SP500\"})\n",
    "\n",
    "#check for date duplicates\n",
    "len(snp_df['formatted_date'].unique()) #1902\n",
    "len(snp_df.index) #1902\n",
    "\n",
    "#drop unecessary columns, create date column and set as index\n",
    "snp_df.date = pd.to_datetime(snp_df.formatted_date)\n",
    "snp_df = snp_df.drop(to_drop, axis=1).set_index(\"date\")\n",
    "\n",
    "#Remove duplicated indexes/dates for BTC\n",
    "if snp_df.index.duplicated().any():\n",
    "    snp_df = snp_df.loc[~snp_df.index.duplicated(), :]\n",
    "\n",
    "snp_df.head(10)"
   ]
  },
  {
   "cell_type": "markdown",
   "id": "28bd86b4",
   "metadata": {},
   "source": [
    "### Merge both dataframes into one"
   ]
  },
  {
   "cell_type": "code",
   "execution_count": 12,
   "id": "a077c39e",
   "metadata": {},
   "outputs": [],
   "source": [
    "#Data frame with NaN values that is going to be used for imputation and modelling\n",
    "df = btc_df.merge(snp_df, how=\"outer\", left_index=True, right_index=True)\n",
    "\n",
    "#Reindex to get all dates\n",
    "df.reindex(pd.date_range(start=min(df.index), end=max(df.index), freq='D'))\n",
    "\n",
    "#using forward propagation to fill all missing date values for SNP500\n",
    "df.fillna(method='ffill', inplace=True)\n"
   ]
  },
  {
   "cell_type": "code",
   "execution_count": 348,
   "id": "83d6617f",
   "metadata": {},
   "outputs": [
    {
     "data": {
      "text/html": [
       "<div>\n",
       "<style scoped>\n",
       "    .dataframe tbody tr th:only-of-type {\n",
       "        vertical-align: middle;\n",
       "    }\n",
       "\n",
       "    .dataframe tbody tr th {\n",
       "        vertical-align: top;\n",
       "    }\n",
       "\n",
       "    .dataframe thead th {\n",
       "        text-align: right;\n",
       "    }\n",
       "</style>\n",
       "<table border=\"1\" class=\"dataframe\">\n",
       "  <thead>\n",
       "    <tr style=\"text-align: right;\">\n",
       "      <th></th>\n",
       "      <th>BTC</th>\n",
       "      <th>SP500</th>\n",
       "    </tr>\n",
       "    <tr>\n",
       "      <th>date</th>\n",
       "      <th></th>\n",
       "      <th></th>\n",
       "    </tr>\n",
       "  </thead>\n",
       "  <tbody>\n",
       "    <tr>\n",
       "      <th>2014-09-17</th>\n",
       "      <td>457.334015</td>\n",
       "      <td>2001.569946</td>\n",
       "    </tr>\n",
       "    <tr>\n",
       "      <th>2014-09-18</th>\n",
       "      <td>424.440002</td>\n",
       "      <td>2011.359985</td>\n",
       "    </tr>\n",
       "    <tr>\n",
       "      <th>2014-09-19</th>\n",
       "      <td>394.795990</td>\n",
       "      <td>2010.400024</td>\n",
       "    </tr>\n",
       "    <tr>\n",
       "      <th>2014-09-20</th>\n",
       "      <td>408.903992</td>\n",
       "      <td>2010.400024</td>\n",
       "    </tr>\n",
       "    <tr>\n",
       "      <th>2014-09-21</th>\n",
       "      <td>398.821014</td>\n",
       "      <td>2010.400024</td>\n",
       "    </tr>\n",
       "    <tr>\n",
       "      <th>2014-09-22</th>\n",
       "      <td>402.152008</td>\n",
       "      <td>1994.290039</td>\n",
       "    </tr>\n",
       "    <tr>\n",
       "      <th>2014-09-23</th>\n",
       "      <td>435.790985</td>\n",
       "      <td>1982.770020</td>\n",
       "    </tr>\n",
       "    <tr>\n",
       "      <th>2014-09-24</th>\n",
       "      <td>423.204987</td>\n",
       "      <td>1998.300049</td>\n",
       "    </tr>\n",
       "    <tr>\n",
       "      <th>2014-09-25</th>\n",
       "      <td>411.574005</td>\n",
       "      <td>1965.989990</td>\n",
       "    </tr>\n",
       "    <tr>\n",
       "      <th>2014-09-26</th>\n",
       "      <td>404.424988</td>\n",
       "      <td>1982.849976</td>\n",
       "    </tr>\n",
       "    <tr>\n",
       "      <th>2014-09-27</th>\n",
       "      <td>399.519989</td>\n",
       "      <td>1982.849976</td>\n",
       "    </tr>\n",
       "    <tr>\n",
       "      <th>2014-09-28</th>\n",
       "      <td>377.181000</td>\n",
       "      <td>1982.849976</td>\n",
       "    </tr>\n",
       "    <tr>\n",
       "      <th>2014-09-29</th>\n",
       "      <td>375.467010</td>\n",
       "      <td>1977.800049</td>\n",
       "    </tr>\n",
       "    <tr>\n",
       "      <th>2014-09-30</th>\n",
       "      <td>386.944000</td>\n",
       "      <td>1972.290039</td>\n",
       "    </tr>\n",
       "    <tr>\n",
       "      <th>2014-10-01</th>\n",
       "      <td>383.614990</td>\n",
       "      <td>1946.160034</td>\n",
       "    </tr>\n",
       "    <tr>\n",
       "      <th>2014-10-02</th>\n",
       "      <td>375.071991</td>\n",
       "      <td>1946.170044</td>\n",
       "    </tr>\n",
       "    <tr>\n",
       "      <th>2014-10-03</th>\n",
       "      <td>359.511993</td>\n",
       "      <td>1967.900024</td>\n",
       "    </tr>\n",
       "    <tr>\n",
       "      <th>2014-10-04</th>\n",
       "      <td>328.865997</td>\n",
       "      <td>1967.900024</td>\n",
       "    </tr>\n",
       "    <tr>\n",
       "      <th>2014-10-05</th>\n",
       "      <td>320.510010</td>\n",
       "      <td>1967.900024</td>\n",
       "    </tr>\n",
       "    <tr>\n",
       "      <th>2014-10-06</th>\n",
       "      <td>330.079010</td>\n",
       "      <td>1964.819946</td>\n",
       "    </tr>\n",
       "    <tr>\n",
       "      <th>2014-10-07</th>\n",
       "      <td>336.187012</td>\n",
       "      <td>1935.099976</td>\n",
       "    </tr>\n",
       "    <tr>\n",
       "      <th>2014-10-08</th>\n",
       "      <td>352.940002</td>\n",
       "      <td>1968.890015</td>\n",
       "    </tr>\n",
       "    <tr>\n",
       "      <th>2014-10-09</th>\n",
       "      <td>365.026001</td>\n",
       "      <td>1928.209961</td>\n",
       "    </tr>\n",
       "    <tr>\n",
       "      <th>2014-10-10</th>\n",
       "      <td>361.562012</td>\n",
       "      <td>1906.130005</td>\n",
       "    </tr>\n",
       "    <tr>\n",
       "      <th>2014-10-11</th>\n",
       "      <td>362.299011</td>\n",
       "      <td>1906.130005</td>\n",
       "    </tr>\n",
       "    <tr>\n",
       "      <th>2014-10-12</th>\n",
       "      <td>378.549011</td>\n",
       "      <td>1906.130005</td>\n",
       "    </tr>\n",
       "    <tr>\n",
       "      <th>2014-10-13</th>\n",
       "      <td>390.414001</td>\n",
       "      <td>1874.739990</td>\n",
       "    </tr>\n",
       "    <tr>\n",
       "      <th>2014-10-14</th>\n",
       "      <td>400.869995</td>\n",
       "      <td>1877.699951</td>\n",
       "    </tr>\n",
       "    <tr>\n",
       "      <th>2014-10-15</th>\n",
       "      <td>394.773010</td>\n",
       "      <td>1862.489990</td>\n",
       "    </tr>\n",
       "    <tr>\n",
       "      <th>2014-10-16</th>\n",
       "      <td>382.556000</td>\n",
       "      <td>1862.760010</td>\n",
       "    </tr>\n",
       "    <tr>\n",
       "      <th>2014-10-17</th>\n",
       "      <td>383.757996</td>\n",
       "      <td>1886.760010</td>\n",
       "    </tr>\n",
       "    <tr>\n",
       "      <th>2014-10-18</th>\n",
       "      <td>391.441986</td>\n",
       "      <td>1886.760010</td>\n",
       "    </tr>\n",
       "    <tr>\n",
       "      <th>2014-10-19</th>\n",
       "      <td>389.545990</td>\n",
       "      <td>1886.760010</td>\n",
       "    </tr>\n",
       "    <tr>\n",
       "      <th>2014-10-20</th>\n",
       "      <td>382.845001</td>\n",
       "      <td>1904.010010</td>\n",
       "    </tr>\n",
       "    <tr>\n",
       "      <th>2014-10-21</th>\n",
       "      <td>386.475006</td>\n",
       "      <td>1941.280029</td>\n",
       "    </tr>\n",
       "    <tr>\n",
       "      <th>2014-10-22</th>\n",
       "      <td>383.157990</td>\n",
       "      <td>1927.109985</td>\n",
       "    </tr>\n",
       "    <tr>\n",
       "      <th>2014-10-23</th>\n",
       "      <td>358.416992</td>\n",
       "      <td>1950.819946</td>\n",
       "    </tr>\n",
       "    <tr>\n",
       "      <th>2014-10-24</th>\n",
       "      <td>358.345001</td>\n",
       "      <td>1964.579956</td>\n",
       "    </tr>\n",
       "    <tr>\n",
       "      <th>2014-10-25</th>\n",
       "      <td>347.270996</td>\n",
       "      <td>1964.579956</td>\n",
       "    </tr>\n",
       "    <tr>\n",
       "      <th>2014-10-26</th>\n",
       "      <td>354.704010</td>\n",
       "      <td>1964.579956</td>\n",
       "    </tr>\n",
       "    <tr>\n",
       "      <th>2014-10-27</th>\n",
       "      <td>352.989014</td>\n",
       "      <td>1961.630005</td>\n",
       "    </tr>\n",
       "    <tr>\n",
       "      <th>2014-10-28</th>\n",
       "      <td>357.618011</td>\n",
       "      <td>1985.050049</td>\n",
       "    </tr>\n",
       "    <tr>\n",
       "      <th>2014-10-29</th>\n",
       "      <td>335.591003</td>\n",
       "      <td>1982.300049</td>\n",
       "    </tr>\n",
       "    <tr>\n",
       "      <th>2014-10-30</th>\n",
       "      <td>345.304993</td>\n",
       "      <td>1994.650024</td>\n",
       "    </tr>\n",
       "    <tr>\n",
       "      <th>2014-10-31</th>\n",
       "      <td>338.321014</td>\n",
       "      <td>2018.050049</td>\n",
       "    </tr>\n",
       "    <tr>\n",
       "      <th>2014-11-01</th>\n",
       "      <td>325.748993</td>\n",
       "      <td>2018.050049</td>\n",
       "    </tr>\n",
       "    <tr>\n",
       "      <th>2014-11-02</th>\n",
       "      <td>325.891998</td>\n",
       "      <td>2018.050049</td>\n",
       "    </tr>\n",
       "    <tr>\n",
       "      <th>2014-11-03</th>\n",
       "      <td>327.553986</td>\n",
       "      <td>2017.810059</td>\n",
       "    </tr>\n",
       "    <tr>\n",
       "      <th>2014-11-04</th>\n",
       "      <td>330.492004</td>\n",
       "      <td>2012.099976</td>\n",
       "    </tr>\n",
       "    <tr>\n",
       "      <th>2014-11-05</th>\n",
       "      <td>339.485992</td>\n",
       "      <td>2023.569946</td>\n",
       "    </tr>\n",
       "    <tr>\n",
       "      <th>2014-11-06</th>\n",
       "      <td>349.290009</td>\n",
       "      <td>2031.209961</td>\n",
       "    </tr>\n",
       "    <tr>\n",
       "      <th>2014-11-07</th>\n",
       "      <td>342.415009</td>\n",
       "      <td>2031.920044</td>\n",
       "    </tr>\n",
       "    <tr>\n",
       "      <th>2014-11-08</th>\n",
       "      <td>345.488007</td>\n",
       "      <td>2031.920044</td>\n",
       "    </tr>\n",
       "    <tr>\n",
       "      <th>2014-11-09</th>\n",
       "      <td>363.264008</td>\n",
       "      <td>2031.920044</td>\n",
       "    </tr>\n",
       "    <tr>\n",
       "      <th>2014-11-10</th>\n",
       "      <td>366.924011</td>\n",
       "      <td>2038.260010</td>\n",
       "    </tr>\n",
       "    <tr>\n",
       "      <th>2014-11-11</th>\n",
       "      <td>367.695007</td>\n",
       "      <td>2039.680054</td>\n",
       "    </tr>\n",
       "    <tr>\n",
       "      <th>2014-11-12</th>\n",
       "      <td>423.561005</td>\n",
       "      <td>2038.250000</td>\n",
       "    </tr>\n",
       "    <tr>\n",
       "      <th>2014-11-13</th>\n",
       "      <td>420.734985</td>\n",
       "      <td>2039.329956</td>\n",
       "    </tr>\n",
       "    <tr>\n",
       "      <th>2014-11-14</th>\n",
       "      <td>397.817993</td>\n",
       "      <td>2039.819946</td>\n",
       "    </tr>\n",
       "    <tr>\n",
       "      <th>2014-11-15</th>\n",
       "      <td>376.132996</td>\n",
       "      <td>2039.819946</td>\n",
       "    </tr>\n",
       "    <tr>\n",
       "      <th>2014-11-16</th>\n",
       "      <td>387.881989</td>\n",
       "      <td>2039.819946</td>\n",
       "    </tr>\n",
       "    <tr>\n",
       "      <th>2014-11-17</th>\n",
       "      <td>387.407990</td>\n",
       "      <td>2041.319946</td>\n",
       "    </tr>\n",
       "    <tr>\n",
       "      <th>2014-11-18</th>\n",
       "      <td>375.197998</td>\n",
       "      <td>2051.800049</td>\n",
       "    </tr>\n",
       "    <tr>\n",
       "      <th>2014-11-19</th>\n",
       "      <td>380.554993</td>\n",
       "      <td>2048.719971</td>\n",
       "    </tr>\n",
       "    <tr>\n",
       "      <th>2014-11-20</th>\n",
       "      <td>357.839996</td>\n",
       "      <td>2052.750000</td>\n",
       "    </tr>\n",
       "    <tr>\n",
       "      <th>2014-11-21</th>\n",
       "      <td>350.847992</td>\n",
       "      <td>2063.500000</td>\n",
       "    </tr>\n",
       "    <tr>\n",
       "      <th>2014-11-22</th>\n",
       "      <td>352.920013</td>\n",
       "      <td>2063.500000</td>\n",
       "    </tr>\n",
       "    <tr>\n",
       "      <th>2014-11-23</th>\n",
       "      <td>367.572998</td>\n",
       "      <td>2063.500000</td>\n",
       "    </tr>\n",
       "    <tr>\n",
       "      <th>2014-11-24</th>\n",
       "      <td>376.901001</td>\n",
       "      <td>2069.409912</td>\n",
       "    </tr>\n",
       "    <tr>\n",
       "      <th>2014-11-25</th>\n",
       "      <td>375.347992</td>\n",
       "      <td>2067.030029</td>\n",
       "    </tr>\n",
       "    <tr>\n",
       "      <th>2014-11-26</th>\n",
       "      <td>368.369995</td>\n",
       "      <td>2072.830078</td>\n",
       "    </tr>\n",
       "    <tr>\n",
       "      <th>2014-11-27</th>\n",
       "      <td>369.670013</td>\n",
       "      <td>2072.830078</td>\n",
       "    </tr>\n",
       "    <tr>\n",
       "      <th>2014-11-28</th>\n",
       "      <td>376.446991</td>\n",
       "      <td>2067.560059</td>\n",
       "    </tr>\n",
       "    <tr>\n",
       "      <th>2014-11-29</th>\n",
       "      <td>375.490997</td>\n",
       "      <td>2067.560059</td>\n",
       "    </tr>\n",
       "    <tr>\n",
       "      <th>2014-11-30</th>\n",
       "      <td>378.046997</td>\n",
       "      <td>2067.560059</td>\n",
       "    </tr>\n",
       "    <tr>\n",
       "      <th>2014-12-01</th>\n",
       "      <td>379.244995</td>\n",
       "      <td>2053.439941</td>\n",
       "    </tr>\n",
       "    <tr>\n",
       "      <th>2014-12-02</th>\n",
       "      <td>381.315002</td>\n",
       "      <td>2066.550049</td>\n",
       "    </tr>\n",
       "    <tr>\n",
       "      <th>2014-12-03</th>\n",
       "      <td>375.010010</td>\n",
       "      <td>2074.330078</td>\n",
       "    </tr>\n",
       "    <tr>\n",
       "      <th>2014-12-04</th>\n",
       "      <td>369.604004</td>\n",
       "      <td>2071.919922</td>\n",
       "    </tr>\n",
       "    <tr>\n",
       "      <th>2014-12-05</th>\n",
       "      <td>376.854004</td>\n",
       "      <td>2075.370117</td>\n",
       "    </tr>\n",
       "    <tr>\n",
       "      <th>2014-12-06</th>\n",
       "      <td>374.785004</td>\n",
       "      <td>2075.370117</td>\n",
       "    </tr>\n",
       "    <tr>\n",
       "      <th>2014-12-07</th>\n",
       "      <td>375.095001</td>\n",
       "      <td>2075.370117</td>\n",
       "    </tr>\n",
       "    <tr>\n",
       "      <th>2014-12-08</th>\n",
       "      <td>361.908997</td>\n",
       "      <td>2060.310059</td>\n",
       "    </tr>\n",
       "    <tr>\n",
       "      <th>2014-12-09</th>\n",
       "      <td>352.218994</td>\n",
       "      <td>2059.820068</td>\n",
       "    </tr>\n",
       "    <tr>\n",
       "      <th>2014-12-10</th>\n",
       "      <td>346.364990</td>\n",
       "      <td>2026.140015</td>\n",
       "    </tr>\n",
       "    <tr>\n",
       "      <th>2014-12-11</th>\n",
       "      <td>350.506012</td>\n",
       "      <td>2035.329956</td>\n",
       "    </tr>\n",
       "    <tr>\n",
       "      <th>2014-12-12</th>\n",
       "      <td>352.541992</td>\n",
       "      <td>2002.329956</td>\n",
       "    </tr>\n",
       "    <tr>\n",
       "      <th>2014-12-13</th>\n",
       "      <td>347.376007</td>\n",
       "      <td>2002.329956</td>\n",
       "    </tr>\n",
       "    <tr>\n",
       "      <th>2014-12-14</th>\n",
       "      <td>351.631989</td>\n",
       "      <td>2002.329956</td>\n",
       "    </tr>\n",
       "    <tr>\n",
       "      <th>2014-12-15</th>\n",
       "      <td>345.345001</td>\n",
       "      <td>1989.630005</td>\n",
       "    </tr>\n",
       "    <tr>\n",
       "      <th>2014-12-16</th>\n",
       "      <td>327.062012</td>\n",
       "      <td>1972.739990</td>\n",
       "    </tr>\n",
       "    <tr>\n",
       "      <th>2014-12-17</th>\n",
       "      <td>319.776001</td>\n",
       "      <td>2012.890015</td>\n",
       "    </tr>\n",
       "    <tr>\n",
       "      <th>2014-12-18</th>\n",
       "      <td>311.395996</td>\n",
       "      <td>2061.229980</td>\n",
       "    </tr>\n",
       "    <tr>\n",
       "      <th>2014-12-19</th>\n",
       "      <td>317.842987</td>\n",
       "      <td>2070.649902</td>\n",
       "    </tr>\n",
       "    <tr>\n",
       "      <th>2014-12-20</th>\n",
       "      <td>329.955994</td>\n",
       "      <td>2070.649902</td>\n",
       "    </tr>\n",
       "    <tr>\n",
       "      <th>2014-12-21</th>\n",
       "      <td>320.842987</td>\n",
       "      <td>2070.649902</td>\n",
       "    </tr>\n",
       "    <tr>\n",
       "      <th>2014-12-22</th>\n",
       "      <td>331.885986</td>\n",
       "      <td>2078.540039</td>\n",
       "    </tr>\n",
       "    <tr>\n",
       "      <th>2014-12-23</th>\n",
       "      <td>334.571991</td>\n",
       "      <td>2082.169922</td>\n",
       "    </tr>\n",
       "    <tr>\n",
       "      <th>2014-12-24</th>\n",
       "      <td>322.533997</td>\n",
       "      <td>2081.879883</td>\n",
       "    </tr>\n",
       "    <tr>\n",
       "      <th>2014-12-25</th>\n",
       "      <td>319.007996</td>\n",
       "      <td>2081.879883</td>\n",
       "    </tr>\n",
       "  </tbody>\n",
       "</table>\n",
       "</div>"
      ],
      "text/plain": [
       "                   BTC        SP500\n",
       "date                               \n",
       "2014-09-17  457.334015  2001.569946\n",
       "2014-09-18  424.440002  2011.359985\n",
       "2014-09-19  394.795990  2010.400024\n",
       "2014-09-20  408.903992  2010.400024\n",
       "2014-09-21  398.821014  2010.400024\n",
       "2014-09-22  402.152008  1994.290039\n",
       "2014-09-23  435.790985  1982.770020\n",
       "2014-09-24  423.204987  1998.300049\n",
       "2014-09-25  411.574005  1965.989990\n",
       "2014-09-26  404.424988  1982.849976\n",
       "2014-09-27  399.519989  1982.849976\n",
       "2014-09-28  377.181000  1982.849976\n",
       "2014-09-29  375.467010  1977.800049\n",
       "2014-09-30  386.944000  1972.290039\n",
       "2014-10-01  383.614990  1946.160034\n",
       "2014-10-02  375.071991  1946.170044\n",
       "2014-10-03  359.511993  1967.900024\n",
       "2014-10-04  328.865997  1967.900024\n",
       "2014-10-05  320.510010  1967.900024\n",
       "2014-10-06  330.079010  1964.819946\n",
       "2014-10-07  336.187012  1935.099976\n",
       "2014-10-08  352.940002  1968.890015\n",
       "2014-10-09  365.026001  1928.209961\n",
       "2014-10-10  361.562012  1906.130005\n",
       "2014-10-11  362.299011  1906.130005\n",
       "2014-10-12  378.549011  1906.130005\n",
       "2014-10-13  390.414001  1874.739990\n",
       "2014-10-14  400.869995  1877.699951\n",
       "2014-10-15  394.773010  1862.489990\n",
       "2014-10-16  382.556000  1862.760010\n",
       "2014-10-17  383.757996  1886.760010\n",
       "2014-10-18  391.441986  1886.760010\n",
       "2014-10-19  389.545990  1886.760010\n",
       "2014-10-20  382.845001  1904.010010\n",
       "2014-10-21  386.475006  1941.280029\n",
       "2014-10-22  383.157990  1927.109985\n",
       "2014-10-23  358.416992  1950.819946\n",
       "2014-10-24  358.345001  1964.579956\n",
       "2014-10-25  347.270996  1964.579956\n",
       "2014-10-26  354.704010  1964.579956\n",
       "2014-10-27  352.989014  1961.630005\n",
       "2014-10-28  357.618011  1985.050049\n",
       "2014-10-29  335.591003  1982.300049\n",
       "2014-10-30  345.304993  1994.650024\n",
       "2014-10-31  338.321014  2018.050049\n",
       "2014-11-01  325.748993  2018.050049\n",
       "2014-11-02  325.891998  2018.050049\n",
       "2014-11-03  327.553986  2017.810059\n",
       "2014-11-04  330.492004  2012.099976\n",
       "2014-11-05  339.485992  2023.569946\n",
       "2014-11-06  349.290009  2031.209961\n",
       "2014-11-07  342.415009  2031.920044\n",
       "2014-11-08  345.488007  2031.920044\n",
       "2014-11-09  363.264008  2031.920044\n",
       "2014-11-10  366.924011  2038.260010\n",
       "2014-11-11  367.695007  2039.680054\n",
       "2014-11-12  423.561005  2038.250000\n",
       "2014-11-13  420.734985  2039.329956\n",
       "2014-11-14  397.817993  2039.819946\n",
       "2014-11-15  376.132996  2039.819946\n",
       "2014-11-16  387.881989  2039.819946\n",
       "2014-11-17  387.407990  2041.319946\n",
       "2014-11-18  375.197998  2051.800049\n",
       "2014-11-19  380.554993  2048.719971\n",
       "2014-11-20  357.839996  2052.750000\n",
       "2014-11-21  350.847992  2063.500000\n",
       "2014-11-22  352.920013  2063.500000\n",
       "2014-11-23  367.572998  2063.500000\n",
       "2014-11-24  376.901001  2069.409912\n",
       "2014-11-25  375.347992  2067.030029\n",
       "2014-11-26  368.369995  2072.830078\n",
       "2014-11-27  369.670013  2072.830078\n",
       "2014-11-28  376.446991  2067.560059\n",
       "2014-11-29  375.490997  2067.560059\n",
       "2014-11-30  378.046997  2067.560059\n",
       "2014-12-01  379.244995  2053.439941\n",
       "2014-12-02  381.315002  2066.550049\n",
       "2014-12-03  375.010010  2074.330078\n",
       "2014-12-04  369.604004  2071.919922\n",
       "2014-12-05  376.854004  2075.370117\n",
       "2014-12-06  374.785004  2075.370117\n",
       "2014-12-07  375.095001  2075.370117\n",
       "2014-12-08  361.908997  2060.310059\n",
       "2014-12-09  352.218994  2059.820068\n",
       "2014-12-10  346.364990  2026.140015\n",
       "2014-12-11  350.506012  2035.329956\n",
       "2014-12-12  352.541992  2002.329956\n",
       "2014-12-13  347.376007  2002.329956\n",
       "2014-12-14  351.631989  2002.329956\n",
       "2014-12-15  345.345001  1989.630005\n",
       "2014-12-16  327.062012  1972.739990\n",
       "2014-12-17  319.776001  2012.890015\n",
       "2014-12-18  311.395996  2061.229980\n",
       "2014-12-19  317.842987  2070.649902\n",
       "2014-12-20  329.955994  2070.649902\n",
       "2014-12-21  320.842987  2070.649902\n",
       "2014-12-22  331.885986  2078.540039\n",
       "2014-12-23  334.571991  2082.169922\n",
       "2014-12-24  322.533997  2081.879883\n",
       "2014-12-25  319.007996  2081.879883"
      ]
     },
     "execution_count": 348,
     "metadata": {},
     "output_type": "execute_result"
    }
   ],
   "source": [
    "df.head(100)"
   ]
  },
  {
   "cell_type": "markdown",
   "id": "a4400eab",
   "metadata": {},
   "source": [
    "## Exploratory data analysis for Bitcoin and S&P 500 prices\n",
    "For the exploratory analysis we are going to use the dataframe that has no missing values"
   ]
  },
  {
   "cell_type": "markdown",
   "id": "45a46341",
   "metadata": {},
   "source": [
    "### Correlation"
   ]
  },
  {
   "cell_type": "code",
   "execution_count": 13,
   "id": "3c735bc7",
   "metadata": {},
   "outputs": [
    {
     "data": {
      "text/html": [
       "<div>\n",
       "<style scoped>\n",
       "    .dataframe tbody tr th:only-of-type {\n",
       "        vertical-align: middle;\n",
       "    }\n",
       "\n",
       "    .dataframe tbody tr th {\n",
       "        vertical-align: top;\n",
       "    }\n",
       "\n",
       "    .dataframe thead th {\n",
       "        text-align: right;\n",
       "    }\n",
       "</style>\n",
       "<table border=\"1\" class=\"dataframe\">\n",
       "  <thead>\n",
       "    <tr style=\"text-align: right;\">\n",
       "      <th></th>\n",
       "      <th>BTC</th>\n",
       "      <th>SP500</th>\n",
       "    </tr>\n",
       "  </thead>\n",
       "  <tbody>\n",
       "    <tr>\n",
       "      <th>BTC</th>\n",
       "      <td>1.000000</td>\n",
       "      <td>0.914553</td>\n",
       "    </tr>\n",
       "    <tr>\n",
       "      <th>SP500</th>\n",
       "      <td>0.914553</td>\n",
       "      <td>1.000000</td>\n",
       "    </tr>\n",
       "  </tbody>\n",
       "</table>\n",
       "</div>"
      ],
      "text/plain": [
       "            BTC     SP500\n",
       "BTC    1.000000  0.914553\n",
       "SP500  0.914553  1.000000"
      ]
     },
     "execution_count": 13,
     "metadata": {},
     "output_type": "execute_result"
    }
   ],
   "source": [
    "correlation = df.corr()\n",
    "correlation"
   ]
  },
  {
   "cell_type": "markdown",
   "id": "4a4dce91",
   "metadata": {},
   "source": [
    "By looking into our results, we see that we have a strong and positive correlation of 0.91 between the price of Bitcoin and S&P 500. That means that when the prices of the stock market go up, we can expect Bitcoin to follow the trend and also move up."
   ]
  },
  {
   "cell_type": "code",
   "execution_count": 15,
   "id": "1e28355c",
   "metadata": {},
   "outputs": [
    {
     "data": {
      "text/plain": [
       "(0.14287205102755146,\n",
       " 0.9688691746567483,\n",
       " 27,\n",
       " 2732,\n",
       " {'1%': -3.4327458473129906,\n",
       "  '5%': -2.86259851213211,\n",
       "  '10%': -2.5673334803017864},\n",
       " 25624.271749365154)"
      ]
     },
     "execution_count": 15,
     "metadata": {},
     "output_type": "execute_result"
    },
    {
     "data": {
      "image/png": "[encoded data removed]",
      "text/plain": [
       "<Figure size 432x288 with 1 Axes>"
      ]
     },
     "metadata": {
      "needs_background": "light"
     },
     "output_type": "display_data"
    }
   ],
   "source": [
    "#Checking if the correlation is statistically significant by performing Pearson Correlation test\n",
    "\n",
    "from scipy.stats.stats import pearsonr\n",
    "btc = df.BTC\n",
    "snp = df.SP500\n",
    "pearsonr(snp, btc) # p value 0.0 , corr coeff: 0.91\n",
    "#Since the correlation coefficient is close to 1, this tells us that there is a strong positive association between the two variables.\n",
    "#And since the corresponding p-value is less than .05, we conclude that there is a statistically significant association between the two variables\n",
    "\n",
    "#check data for stationarity with Dickey Fuller test\n",
    "#pip install statsmodels\n",
    "from statsmodels.tsa.stattools import adfuller\n",
    "plt.plot('BTC',data=df)\n",
    "plt.plot('SP500',data=df)\n",
    "adfuller(btc) # p value 0.76\n",
    "adfuller(snp) # p value 0.96\n",
    "#Since the p-value is not less than .05, we fail to reject the null hypothesis.\n",
    "#Data is not stationary therefore we need to normalize it"
   ]
  },
  {
   "cell_type": "markdown",
   "id": "7f8eeb35",
   "metadata": {},
   "source": [
    "### Visualize correlation"
   ]
  },
  {
   "cell_type": "code",
   "execution_count": 350,
   "id": "c58d7e40",
   "metadata": {},
   "outputs": [
    {
     "data": {
      "image/png": "[encoded data removed]",
      "text/plain": [
       "<Figure size 432x288 with 2 Axes>"
      ]
     },
     "metadata": {
      "needs_background": "light"
     },
     "output_type": "display_data"
    }
   ],
   "source": [
    "sm.graphics.plot_corr(correlation,xnames=list(correlation.columns))\n",
    "plt.show()"
   ]
  },
  {
   "cell_type": "markdown",
   "id": "685d4d9d",
   "metadata": {},
   "source": [
    "The red colour of the graph means that the relationship is strong and positive."
   ]
  },
  {
   "cell_type": "markdown",
   "id": "463e37bd",
   "metadata": {},
   "source": [
    "### Linear regression"
   ]
  },
  {
   "cell_type": "markdown",
   "id": "9dc67bac",
   "metadata": {},
   "source": [
    "#### Are SP500 and BTC Statistilcally significant?\n",
    "#### H0: BTC and Stock prices are not related"
   ]
  },
  {
   "cell_type": "code",
   "execution_count": 351,
   "id": "eb4437e8",
   "metadata": {},
   "outputs": [
    {
     "data": {
      "text/plain": [
       "LinregressResult(slope=19.134543456774452, intercept=-42648.30089190564, rvalue=0.9144453366762599, pvalue=0.0, stderr=0.1612817772471271, intercept_stderr=476.3939110467869)"
      ]
     },
     "execution_count": 351,
     "metadata": {},
     "output_type": "execute_result"
    }
   ],
   "source": [
    "\n",
    "linregress(df.SP500,df.BTC)\n"
   ]
  },
  {
   "cell_type": "markdown",
   "id": "fd652dba",
   "metadata": {},
   "source": [
    "#### Since our p-value is lower than 0.05 we can reject H0, and therefore, we can statistically say that Bitcoin and stock prices are moving together."
   ]
  },
  {
   "cell_type": "markdown",
   "id": "247dc7d9",
   "metadata": {},
   "source": [
    "### Visualizing The Closing  Price of both the stocks"
   ]
  },
  {
   "cell_type": "code",
   "execution_count": 352,
   "id": "b5e1eed0",
   "metadata": {},
   "outputs": [
    {
     "data": {
      "text/plain": [
       "<matplotlib.legend.Legend at 0x175cedad370>"
      ]
     },
     "execution_count": 352,
     "metadata": {},
     "output_type": "execute_result"
    },
    {
     "data": {
      "image/png": "[encoded data removed]",
      "text/plain": [
       "<Figure size 1600x800 with 1 Axes>"
      ]
     },
     "metadata": {
      "needs_background": "light"
     },
     "output_type": "display_data"
    }
   ],
   "source": [
    "# to set the plot size\n",
    "plt.figure(figsize=(16, 8), dpi=100)\n",
    "  \n",
    "# using plot method to plot open prices.\n",
    "# in plot method we set the label and color of the curve.\n",
    "df.BTC.plot(label='BTC', color='red')\n",
    "df.SP500.plot(label='SP500', color='blue')\n",
    "  \n",
    "# adding title to the plot\n",
    "plt.title('Close Price Plot')\n",
    "  \n",
    "# adding Label to the x-axis\n",
    "plt.xlabel('Date')\n",
    "  \n",
    "# adding legend to the curve\n",
    "plt.legend()"
   ]
  },
  {
   "cell_type": "code",
   "execution_count": 353,
   "id": "9f55ab54",
   "metadata": {},
   "outputs": [
    {
     "data": {
      "text/plain": [
       "Index(['BTC', 'SP500'], dtype='object')"
      ]
     },
     "execution_count": 353,
     "metadata": {},
     "output_type": "execute_result"
    }
   ],
   "source": [
    "df.columns"
   ]
  },
  {
   "cell_type": "code",
   "execution_count": 354,
   "id": "8dbaaf0e",
   "metadata": {},
   "outputs": [
    {
     "data": {
      "image/png": "[encoded data removed]",
      "text/plain": [
       "<Figure size 1200x720 with 2 Axes>"
      ]
     },
     "metadata": {
      "needs_background": "light"
     },
     "output_type": "display_data"
    }
   ],
   "source": [
    "from pandas.plotting import register_matplotlib_converters\n",
    "register_matplotlib_converters()\n",
    "\n",
    "# Plot\n",
    "fig, axes = plt.subplots(nrows=2, ncols=1, dpi=120, figsize=(10,6))\n",
    "for i, ax in enumerate(axes.flatten()):\n",
    "    data = df[df.columns[i]]\n",
    "    ax.plot(data, color='red', linewidth=1)\n",
    "    # Decorations\n",
    "    ax.set_title(df.columns[i])\n",
    "    ax.xaxis.set_ticks_position('none')\n",
    "    ax.yaxis.set_ticks_position('none')\n",
    "    ax.spines['top'].set_alpha(0)\n",
    "    ax.tick_params(labelsize=6)\n",
    "    plt.tight_layout();"
   ]
  },
  {
   "cell_type": "markdown",
   "id": "39890a81",
   "metadata": {},
   "source": [
    "Here, we can see different trends for our variables. It would be helpful if we established whether or not our time series followed a normal (or Gaussian) distribution. We will do this based on the test for normality based on the Jarque-Bera test."
   ]
  },
  {
   "cell_type": "markdown",
   "id": "443491c2",
   "metadata": {},
   "source": [
    "### Jarque-Bera Test\n",
    "Below we will make a Jarque-Bera test to check if the datasets are normally distributed. Here we are going to use the initial dataframes for each of the prices "
   ]
  },
  {
   "cell_type": "code",
   "execution_count": 357,
   "id": "b188bb61",
   "metadata": {},
   "outputs": [
    {
     "name": "stdout",
     "output_type": "stream",
     "text": [
      "Statistics=800.894, p=0.000\n",
      "Data does not look Gaussian (reject H0)\n"
     ]
    }
   ],
   "source": [
    "# imports the necessary module for statistics\n",
    "from scipy import stats\n",
    "\n",
    "# unpacks the test statistic and p-value from the normaltest of gold\n",
    "stat, p = stats.normaltest(df.BTC)\n",
    "\n",
    "# prints both the test statistic and p-value\n",
    "print('Statistics=%.3f, p=%.3f' % (stat, p))\n",
    "\n",
    "# chooses an alpha of 0.05 and assigns to variable 'alpha'\n",
    "alpha = 0.05\n",
    "\n",
    "# creates an if statement for the hypothesis using the p-value test\n",
    "if p > alpha:\n",
    "    print('Data looks Gaussian (fail to reject H0)')\n",
    "else:\n",
    "    print('Data does not look Gaussian (reject H0)')"
   ]
  },
  {
   "cell_type": "code",
   "execution_count": 359,
   "id": "a9f74e27",
   "metadata": {},
   "outputs": [
    {
     "name": "stdout",
     "output_type": "stream",
     "text": [
      "Statistics=288.585, p=0.000\n",
      "Data does not look Gaussian (reject H0)\n"
     ]
    }
   ],
   "source": [
    "# imports the necessary module for statistics\n",
    "from scipy import stats\n",
    "\n",
    "# unpacks the test statistic and p-value from the normaltest of gold\n",
    "stat, p = stats.normaltest(df.SP500)\n",
    "\n",
    "# prints both the test statistic and p-value\n",
    "print('Statistics=%.3f, p=%.3f' % (stat, p))\n",
    "\n",
    "# chooses an alpha of 0.05 and assigns to variable 'alpha'\n",
    "alpha = 0.05\n",
    "\n",
    "# creates an if statement for the hypothesis using the p-value test\n",
    "if p > alpha:\n",
    "    print('Data looks Gaussian (fail to reject H0)')\n",
    "else:\n",
    "    print('Data does not look Gaussian (reject H0)')"
   ]
  },
  {
   "cell_type": "markdown",
   "id": "b3357ffb",
   "metadata": {},
   "source": [
    "As we can see, we recieve a p-value and a test statistic in return. While we don't have a Chi-Square chart to determine the critical region, we do have a p-value, which is basically zero.\n",
    "\n",
    "A p-value less than 0.05 basically means our test statistic falls within the critical region (inside the tail); therefore, we can reject the null hypothesis. The dataset is not normally distributed, which we probably could have assumed by looking at the time series plots from before.\n",
    "\n",
    "Next, we can look for a fat-tail distribution and asymmetry by looking for kurtosis and skewness."
   ]
  },
  {
   "cell_type": "code",
   "execution_count": 360,
   "id": "4e91c641",
   "metadata": {},
   "outputs": [
    {
     "name": "stdout",
     "output_type": "stream",
     "text": [
      "Kurtosis of normal distribution for BTC: 1.727638859557235\n",
      "Skewness of normal distribution for BTC: 1.7270411173625617\n"
     ]
    }
   ],
   "source": [
    "print('Kurtosis of normal distribution for BTC: {}'.format(stats.kurtosis(df.BTC)))\n",
    "print('Skewness of normal distribution for BTC: {}'.format(stats.skew(df.BTC)))"
   ]
  },
  {
   "cell_type": "code",
   "execution_count": 361,
   "id": "0837da33",
   "metadata": {},
   "outputs": [
    {
     "name": "stdout",
     "output_type": "stream",
     "text": [
      "Kurtosis of normal distribution for S&P500: -0.2065361362042606\n",
      "Skewness of normal distribution for S&P500: 0.9061956051288373\n"
     ]
    }
   ],
   "source": [
    "print('Kurtosis of normal distribution for S&P500: {}'.format(stats.kurtosis(df.SP500)))\n",
    "print('Skewness of normal distribution for S&P500: {}'.format(stats.skew(df.SP500)))"
   ]
  },
  {
   "cell_type": "markdown",
   "id": "f2da7387",
   "metadata": {},
   "source": [
    "These two distributions can provide us with some intuition about the distribution of our data. A value close to 0 for kurtosis indicates a normal distribution where asymmetrical nature is signified by a value between -0.5 and +0.5 for skewness. The tails are heavier for kurtosis greater than 0 and vice versa. Moderate skewness refers to the value between -1 and -0.5 or 0.5 and 1.\n",
    "\n",
    "We can also use a normal probability plot to assess the probability distribution of a randomly selected variable inside of our dataset"
   ]
  },
  {
   "cell_type": "code",
   "execution_count": 362,
   "id": "c319224f",
   "metadata": {},
   "outputs": [
    {
     "data": {
      "text/plain": [
       "count     2759.000000\n",
       "mean     11832.940497\n",
       "std      16452.176608\n",
       "min        178.102997\n",
       "25%        610.039001\n",
       "50%       6394.709961\n",
       "75%      10809.416504\n",
       "max      67566.828125\n",
       "Name: BTC, dtype: float64"
      ]
     },
     "execution_count": 362,
     "metadata": {},
     "output_type": "execute_result"
    },
    {
     "data": {
      "image/png": "[encoded data removed]",
      "text/plain": [
       "<Figure size 1008x432 with 2 Axes>"
      ]
     },
     "metadata": {
      "needs_background": "light"
     },
     "output_type": "display_data"
    }
   ],
   "source": [
    "plt.figure(figsize=(14,6))\n",
    "plt.subplot(1,2,1)\n",
    "df.BTC.hist(bins=50)\n",
    "plt.title('BTC')\n",
    "plt.subplot(1,2,2)\n",
    "stats.probplot(btc_df.BTC, plot=plt);\n",
    "btc_df.BTC.describe().T"
   ]
  },
  {
   "cell_type": "code",
   "execution_count": 363,
   "id": "568a7bd6",
   "metadata": {},
   "outputs": [
    {
     "data": {
      "text/plain": [
       "count    1902.000000\n",
       "mean     2847.183995\n",
       "std       786.177189\n",
       "min      1829.079956\n",
       "25%      2139.462463\n",
       "50%      2709.219971\n",
       "75%      3221.272522\n",
       "max      4796.560059\n",
       "Name: SP500, dtype: float64"
      ]
     },
     "execution_count": 363,
     "metadata": {},
     "output_type": "execute_result"
    },
    {
     "data": {
      "image/png": "[encoded data removed]",
      "text/plain": [
       "<Figure size 1008x432 with 2 Axes>"
      ]
     },
     "metadata": {
      "needs_background": "light"
     },
     "output_type": "display_data"
    }
   ],
   "source": [
    "plt.figure(figsize=(14,6))\n",
    "plt.subplot(1,2,1)\n",
    "df.SP500.hist(bins=50)\n",
    "plt.title('S&P 500')\n",
    "plt.subplot(1,2,2)\n",
    "stats.probplot(snp_df.SP500, plot=plt);\n",
    "snp_df.SP500.describe().T"
   ]
  },
  {
   "cell_type": "markdown",
   "id": "03987b44",
   "metadata": {},
   "source": [
    "# TODO \n",
    "### Dickey-Fuller Test for stationarity on the whole dataset"
   ]
  },
  {
   "cell_type": "markdown",
   "id": "a0d5b5c9",
   "metadata": {},
   "source": [
    "### Split dataset into train and test sets\n",
    "In order for us to process further, we would need to transform our time series into a stationary time series. However, before we do this, we are going to take the opportunity to seperate our time series into a testing set and a training set. We will do this to assess the predictive capabilities of the model we will eventually create"
   ]
  },
  {
   "cell_type": "code",
   "execution_count": 16,
   "id": "305b6f2f",
   "metadata": {},
   "outputs": [
    {
     "name": "stdout",
     "output_type": "stream",
     "text": [
      "0.75\n"
     ]
    }
   ],
   "source": [
    "from sklearn.model_selection import train_test_split\n",
    "\n",
    "train_dataset, test_dataset = train_test_split(df, train_size=0.75,shuffle = False)\n",
    "print(len(train_dataset) / len(df))"
   ]
  },
  {
   "cell_type": "code",
   "execution_count": 17,
   "id": "e33eae6d",
   "metadata": {},
   "outputs": [
    {
     "data": {
      "text/html": [
       "<div>\n",
       "<style scoped>\n",
       "    .dataframe tbody tr th:only-of-type {\n",
       "        vertical-align: middle;\n",
       "    }\n",
       "\n",
       "    .dataframe tbody tr th {\n",
       "        vertical-align: top;\n",
       "    }\n",
       "\n",
       "    .dataframe thead th {\n",
       "        text-align: right;\n",
       "    }\n",
       "</style>\n",
       "<table border=\"1\" class=\"dataframe\">\n",
       "  <thead>\n",
       "    <tr style=\"text-align: right;\">\n",
       "      <th></th>\n",
       "      <th>BTC</th>\n",
       "      <th>SP500</th>\n",
       "    </tr>\n",
       "    <tr>\n",
       "      <th>date</th>\n",
       "      <th></th>\n",
       "      <th></th>\n",
       "    </tr>\n",
       "  </thead>\n",
       "  <tbody>\n",
       "    <tr>\n",
       "      <th>2014-09-17</th>\n",
       "      <td>457.334015</td>\n",
       "      <td>2001.569946</td>\n",
       "    </tr>\n",
       "    <tr>\n",
       "      <th>2014-09-18</th>\n",
       "      <td>424.440002</td>\n",
       "      <td>2011.359985</td>\n",
       "    </tr>\n",
       "    <tr>\n",
       "      <th>2014-09-19</th>\n",
       "      <td>394.795990</td>\n",
       "      <td>2010.400024</td>\n",
       "    </tr>\n",
       "    <tr>\n",
       "      <th>2014-09-20</th>\n",
       "      <td>408.903992</td>\n",
       "      <td>2010.400024</td>\n",
       "    </tr>\n",
       "    <tr>\n",
       "      <th>2014-09-21</th>\n",
       "      <td>398.821014</td>\n",
       "      <td>2010.400024</td>\n",
       "    </tr>\n",
       "    <tr>\n",
       "      <th>...</th>\n",
       "      <td>...</td>\n",
       "      <td>...</td>\n",
       "    </tr>\n",
       "    <tr>\n",
       "      <th>2020-05-13</th>\n",
       "      <td>9269.987305</td>\n",
       "      <td>2820.000000</td>\n",
       "    </tr>\n",
       "    <tr>\n",
       "      <th>2020-05-14</th>\n",
       "      <td>9733.721680</td>\n",
       "      <td>2852.500000</td>\n",
       "    </tr>\n",
       "    <tr>\n",
       "      <th>2020-05-15</th>\n",
       "      <td>9328.197266</td>\n",
       "      <td>2863.699951</td>\n",
       "    </tr>\n",
       "    <tr>\n",
       "      <th>2020-05-16</th>\n",
       "      <td>9377.013672</td>\n",
       "      <td>2863.699951</td>\n",
       "    </tr>\n",
       "    <tr>\n",
       "      <th>2020-05-17</th>\n",
       "      <td>9670.739258</td>\n",
       "      <td>2863.699951</td>\n",
       "    </tr>\n",
       "  </tbody>\n",
       "</table>\n",
       "<p>2070 rows × 2 columns</p>\n",
       "</div>"
      ],
      "text/plain": [
       "                    BTC        SP500\n",
       "date                                \n",
       "2014-09-17   457.334015  2001.569946\n",
       "2014-09-18   424.440002  2011.359985\n",
       "2014-09-19   394.795990  2010.400024\n",
       "2014-09-20   408.903992  2010.400024\n",
       "2014-09-21   398.821014  2010.400024\n",
       "...                 ...          ...\n",
       "2020-05-13  9269.987305  2820.000000\n",
       "2020-05-14  9733.721680  2852.500000\n",
       "2020-05-15  9328.197266  2863.699951\n",
       "2020-05-16  9377.013672  2863.699951\n",
       "2020-05-17  9670.739258  2863.699951\n",
       "\n",
       "[2070 rows x 2 columns]"
      ]
     },
     "execution_count": 17,
     "metadata": {},
     "output_type": "execute_result"
    }
   ],
   "source": [
    "train_dataset.sort_index()"
   ]
  },
  {
   "cell_type": "code",
   "execution_count": 18,
   "id": "e2c168b1",
   "metadata": {},
   "outputs": [
    {
     "data": {
      "text/plain": [
       "(-1.6972897845224713,\n",
       " 0.43250939965199536,\n",
       " 24,\n",
       " 2045,\n",
       " {'1%': -3.4335517248444334,\n",
       "  '5%': -2.8629543667432555,\n",
       "  '10%': -2.567522945522803},\n",
       " 18641.941841669384)"
      ]
     },
     "execution_count": 18,
     "metadata": {},
     "output_type": "execute_result"
    },
    {
     "data": {
      "image/png": "[encoded data removed]",
      "text/plain": [
       "<Figure size 432x288 with 1 Axes>"
      ]
     },
     "metadata": {
      "needs_background": "light"
     },
     "output_type": "display_data"
    }
   ],
   "source": [
    "btc_train = train_dataset.BTC\n",
    "snp_train = train_dataset.SP500\n",
    "plt.plot('BTC',data=train_dataset)\n",
    "plt.plot('SP500',data=train_dataset)\n",
    "adfuller(btc_train) # p value 0.42\n",
    "adfuller(snp_train) # p value 0.43\n",
    "\n",
    "#P value for both variables is > 0.05 therefore we cannot reject the null hypthesis.\n",
    "#data is not stationary and we need to normalize it."
   ]
  },
  {
   "cell_type": "code",
   "execution_count": null,
   "id": "ab9f8e1a",
   "metadata": {},
   "outputs": [],
   "source": []
  }
 ],
 "metadata": {
  "kernelspec": {
   "display_name": "Python 3 (ipykernel)",
   "language": "python",
   "name": "python3"
  },
  "language_info": {
   "codemirror_mode": {
    "name": "ipython",
    "version": 3
   },
   "file_extension": ".py",
   "mimetype": "text/x-python",
   "name": "python",
   "nbconvert_exporter": "python",
   "pygments_lexer": "ipython3",
   "version": "3.9.7"
  }
 },
 "nbformat": 4,
 "nbformat_minor": 5
}
